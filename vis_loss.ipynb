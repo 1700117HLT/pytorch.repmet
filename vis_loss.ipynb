{
 "cells": [
  {
   "cell_type": "code",
   "execution_count": 80,
   "metadata": {
    "collapsed": true
   },
   "outputs": [
    {
     "name": "stdout",
     "output_type": "stream",
     "text": [
      "Variance: 1.960000\n\n-------------------------------------\n--------- Emb: 0 ---------\nn_pre_e: 3.240000\nn: 0.160971\n---- Clus Class: 1 ----\n---- k: 0 ----\nd_pre_e: 33.640000\nd: 0.000188\n--------\nd_cls_sum: 0.000188\n------------\nd_sum: 0.000188\npre_ln: 858.427340\nln: 6.755102\n-ln: -6.755102\nLOSS: 0.000000\n\n\n-------------------------------------\n--------- Emb: 1 ---------\nn_pre_e: 0.040000\nn: 0.364145\n---- Clus Class: 1 ----\n---- k: 0 ----\nd_pre_e: 14.440000\nd: 0.025130\n--------\nd_cls_sum: 0.025130\n------------\nd_sum: 0.025130\npre_ln: 14.490154\nln: 2.673469\n-ln: -2.673469\nLOSS: 0.000000\n\n\n-------------------------------------\n--------- Emb: 2 ---------\nn_pre_e: 2.560000\nn: 0.191463\n---- Clus Class: 0 ----\n---- k: 0 ----\nd_pre_e: 5.760000\nd: 0.230066\n--------\nd_cls_sum: 0.230066\n------------\nd_sum: 0.230066\npre_ln: 0.832208\nln: -0.183673\n-ln: 0.183673\nLOSS: 0.183673\n\n\n-------------------------------------\n--------- Emb: 3 ---------\nn_pre_e: 0.040000\nn: 0.364145\n---- Clus Class: 0 ----\n---- k: 0 ----\nd_pre_e: 17.640000\nd: 0.011109\n--------\nd_cls_sum: 0.011109\n------------\nd_sum: 0.011109\npre_ln: 32.779257\nln: 3.489796\n-ln: -3.489796\nLOSS: 0.000000\n\n"
     ]
    },
    {
     "data": {
      "image/png": "[encoded data removed]",
      "text/plain": [
       "<matplotlib.figure.Figure at 0x7f2a46c97390>"
      ]
     },
     "metadata": {},
     "output_type": "display_data"
    }
   ],
   "source": [
    "%matplotlib inline\n",
    "\n",
    "import matplotlib\n",
    "import numpy as np\n",
    "import matplotlib.pyplot as plt\n",
    "from matplotlib.patches import Circle\n",
    "\n",
    "cluster_centroids = [[[1, 1]], [[1, 5]]]\n",
    "embs = [[[1, -.8], [1, 1.2]], [[1, 3.4], [1, 5.2]]]\n",
    "emb_clus_ass = [[0, 0], [0, 0]]\n",
    "alpha = 1\n",
    "\n",
    "colors = ['r','g','b']\n",
    "\n",
    "# Non-squared basic euc dist ||a-b||_2\n",
    "def euc_dist(a,b):\n",
    "    return np.linalg.norm(np.array(a)-np.array(b))\n",
    "    \n",
    "# Plot\n",
    "fig, ax = plt.subplots()\n",
    "ax.set_xlim((-1, 7))\n",
    "ax.set_ylim((-2, 4))\n",
    "plt.grid()\n",
    "for c in range(len(embs)):\n",
    "    for cc in cluster_centroids[c]:\n",
    "        plt.scatter(cc[1], cc[0], marker='x', color=colors[c])\n",
    "        ax.add_artist(Circle((cc[1], cc[0]), radius=(alpha*variance), color=colors[c], fill=False))\n",
    "    for e in embs[c]:\n",
    "        plt.scatter(e[1], e[0], color=colors[c])\n",
    "\n",
    "\n",
    "############## Magnet Loss ##############\n",
    "\n",
    "# Calc Variance\n",
    "variance = 0\n",
    "N = 0\n",
    "for c in range(len(embs)):\n",
    "    for ei in range(len(embs[c])):\n",
    "        variance += euc_dist(embs[c][ei],cluster_centroids[c][emb_clus_ass[c][ei]])**2\n",
    "        N += 1\n",
    "variance = variance / (N-1)\n",
    "# variance = .5\n",
    "print(\"Variance: %f\" % variance)\n",
    "\n",
    "for c in range(len(embs)):\n",
    "    for ei in range(len(embs[c])):\n",
    "        n_pre_e = euc_dist(embs[c][ei],cluster_centroids[c][emb_clus_ass[c][ei]])**2\n",
    "        n = np.exp((-1/(2*variance))*n_pre_e - alpha)\n",
    "        print(\"\")\n",
    "        print(\"-------------------------------------\")\n",
    "        print(\"--------- Emb: %d ---------\" % ((c*len(embs[c]))+ei))\n",
    "        print(\"n_pre_e: %f\" % n_pre_e)\n",
    "        print(\"n: %f\" % n)\n",
    "        \n",
    "        d_sum = 0\n",
    "        for ci in range(len(cluster_centroids)):\n",
    "            if c == ci:  # only classes not the same as emb we doing\n",
    "                continue\n",
    "                \n",
    "            d_cls_sum = 0\n",
    "            print(\"---- Clus Class: %d ----\" % ci)\n",
    "            for k in range(len(cluster_centroids[ci])):\n",
    "                print(\"---- k: %d ----\" % k)\n",
    "                d_pre_e = euc_dist(embs[c][ei], cluster_centroids[ci][emb_clus_ass[ci][k]])**2\n",
    "                d = np.exp((-1/(2*variance))*d_pre_e)\n",
    "                d_cls_sum += d\n",
    "                print(\"d_pre_e: %f\" % d_pre_e)\n",
    "                print(\"d: %f\" % d)\n",
    "                print(\"--------\")\n",
    "            print(\"d_cls_sum: %f\" % d_cls_sum)\n",
    "            d_sum += d_cls_sum\n",
    "            \n",
    "        print(\"------------\")\n",
    "        print(\"d_sum: %f\" % d_cls_sum)\n",
    "        \n",
    "        pre_ln = n/d_sum\n",
    "        print(\"pre_ln: %f\" % pre_ln)\n",
    "        \n",
    "        ln = -np.log(pre_ln)\n",
    "        print(\"ln: %f\" % -ln)\n",
    "        print(\"-ln: %f\" % ln)\n",
    "        \n",
    "        relu = max(0, ln)\n",
    "        print(\"LOSS: %f\" % relu)\n",
    "        print()\n",
    "        "
   ]
  },
  {
   "cell_type": "code",
   "execution_count": 19,
   "metadata": {},
   "outputs": [],
   "source": []
  },
  {
   "cell_type": "code",
   "execution_count": null,
   "metadata": {},
   "outputs": [],
   "source": []
  }
 ],
 "metadata": {
  "kernelspec": {
   "display_name": "Python 2",
   "language": "python",
   "name": "python2"
  },
  "language_info": {
   "codemirror_mode": {
    "name": "ipython",
    "version": 2
   },
   "file_extension": ".py",
   "mimetype": "text/x-python",
   "name": "python",
   "nbconvert_exporter": "python",
   "pygments_lexer": "ipython2",
   "version": "2.7.6"
  }
 },
 "nbformat": 4,
 "nbformat_minor": 0
}
